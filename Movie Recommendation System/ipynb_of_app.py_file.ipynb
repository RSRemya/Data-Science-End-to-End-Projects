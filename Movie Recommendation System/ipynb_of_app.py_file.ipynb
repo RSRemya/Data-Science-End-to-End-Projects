{
 "cells": [
  {
   "cell_type": "code",
   "execution_count": null,
   "id": "a224dfa1",
   "metadata": {},
   "outputs": [],
   "source": [
    "# Streamlit is an open-source Python library that is designed \n",
    "#   to make it easy to create web applications for data science and machine learning with minimal code. \n",
    "# With Streamlit, you can turn data scripts into shareable web apps quickly. \n",
    "# It's particularly popular for creating interactive and data-driven dashboards."
   ]
  },
  {
   "cell_type": "code",
   "execution_count": 1,
   "id": "fc6999eb",
   "metadata": {},
   "outputs": [
    {
     "name": "stdout",
     "output_type": "stream",
     "text": [
      "Requirement already satisfied: streamlit in c:\\python\\lib\\site-packages (1.29.0)\n",
      "Requirement already satisfied: requests<3,>=2.27 in c:\\python\\lib\\site-packages (from streamlit) (2.31.0)\n",
      "Requirement already satisfied: tornado<7,>=6.0.3 in c:\\python\\lib\\site-packages (from streamlit) (6.4)\n",
      "Requirement already satisfied: rich<14,>=10.14.0 in c:\\python\\lib\\site-packages (from streamlit) (13.7.0)\n",
      "Requirement already satisfied: numpy<2,>=1.19.3 in c:\\python\\lib\\site-packages (from streamlit) (1.26.2)\n",
      "Requirement already satisfied: gitpython!=3.1.19,<4,>=3.0.7 in c:\\python\\lib\\site-packages (from streamlit) (3.1.40)\n",
      "Requirement already satisfied: importlib-metadata<7,>=1.4 in c:\\python\\lib\\site-packages (from streamlit) (6.11.0)\n",
      "Requirement already satisfied: watchdog>=2.1.5; platform_system != \"Darwin\" in c:\\python\\lib\\site-packages (from streamlit) (3.0.0)\n",
      "Requirement already satisfied: cachetools<6,>=4.0 in c:\\python\\lib\\site-packages (from streamlit) (5.3.2)\n",
      "Requirement already satisfied: protobuf<5,>=3.20 in c:\\python\\lib\\site-packages (from streamlit) (4.25.1)\n",
      "Requirement already satisfied: pydeck<1,>=0.8.0b4 in c:\\python\\lib\\site-packages (from streamlit) (0.8.1b0)\n",
      "Requirement already satisfied: typing-extensions<5,>=4.3.0 in c:\\python\\lib\\site-packages (from streamlit) (4.9.0)\n",
      "Requirement already satisfied: tenacity<9,>=8.1.0 in c:\\python\\lib\\site-packages (from streamlit) (8.2.3)\n",
      "Requirement already satisfied: altair<6,>=4.0 in c:\\python\\lib\\site-packages (from streamlit) (5.2.0)\n",
      "Requirement already satisfied: pyarrow>=6.0 in c:\\python\\lib\\site-packages (from streamlit) (14.0.2)\n",
      "Requirement already satisfied: pandas<3,>=1.3.0 in c:\\python\\lib\\site-packages (from streamlit) (2.1.4)\n",
      "Requirement already satisfied: python-dateutil<3,>=2.7.3 in c:\\python\\lib\\site-packages (from streamlit) (2.8.2)\n",
      "Requirement already satisfied: validators<1,>=0.2 in c:\\python\\lib\\site-packages (from streamlit) (0.22.0)\n",
      "Requirement already satisfied: pillow<11,>=7.1.0 in c:\\python\\lib\\site-packages (from streamlit) (10.1.0)\n",
      "Requirement already satisfied: toml<2,>=0.10.1 in c:\\python\\lib\\site-packages (from streamlit) (0.10.2)\n",
      "Requirement already satisfied: packaging<24,>=16.8 in c:\\python\\lib\\site-packages (from streamlit) (23.2)\n",
      "Requirement already satisfied: tzlocal<6,>=1.1 in c:\\python\\lib\\site-packages (from streamlit) (5.2)\n",
      "Requirement already satisfied: click<9,>=7.0 in c:\\python\\lib\\site-packages (from streamlit) (8.1.7)\n",
      "Requirement already satisfied: blinker<2,>=1.0.0 in c:\\python\\lib\\site-packages (from streamlit) (1.7.0)\n",
      "Requirement already satisfied: urllib3<3,>=1.21.1 in c:\\python\\lib\\site-packages (from requests<3,>=2.27->streamlit) (2.1.0)\n",
      "Requirement already satisfied: charset-normalizer<4,>=2 in c:\\python\\lib\\site-packages (from requests<3,>=2.27->streamlit) (3.3.2)\n",
      "Requirement already satisfied: certifi>=2017.4.17 in c:\\python\\lib\\site-packages (from requests<3,>=2.27->streamlit) (2023.11.17)\n",
      "Requirement already satisfied: idna<4,>=2.5 in c:\\python\\lib\\site-packages (from requests<3,>=2.27->streamlit) (3.6)\n",
      "Requirement already satisfied: markdown-it-py>=2.2.0 in c:\\python\\lib\\site-packages (from rich<14,>=10.14.0->streamlit) (3.0.0)\n",
      "Requirement already satisfied: pygments<3.0.0,>=2.13.0 in c:\\python\\lib\\site-packages (from rich<14,>=10.14.0->streamlit) (2.17.2)\n",
      "Requirement already satisfied: gitdb<5,>=4.0.1 in c:\\python\\lib\\site-packages (from gitpython!=3.1.19,<4,>=3.0.7->streamlit) (4.0.11)\n",
      "Requirement already satisfied: zipp>=0.5 in c:\\python\\lib\\site-packages (from importlib-metadata<7,>=1.4->streamlit) (3.17.0)\n",
      "Requirement already satisfied: jinja2>=2.10.1 in c:\\python\\lib\\site-packages (from pydeck<1,>=0.8.0b4->streamlit) (3.1.2)\n",
      "Requirement already satisfied: jsonschema>=3.0 in c:\\python\\lib\\site-packages (from altair<6,>=4.0->streamlit) (4.20.0)\n",
      "Requirement already satisfied: toolz in c:\\python\\lib\\site-packages (from altair<6,>=4.0->streamlit) (0.12.0)\n",
      "Requirement already satisfied: pytz>=2020.1 in c:\\python\\lib\\site-packages (from pandas<3,>=1.3.0->streamlit) (2023.3.post1)\n",
      "Requirement already satisfied: tzdata>=2022.1 in c:\\python\\lib\\site-packages (from pandas<3,>=1.3.0->streamlit) (2023.3)\n",
      "Requirement already satisfied: six>=1.5 in c:\\python\\lib\\site-packages (from python-dateutil<3,>=2.7.3->streamlit) (1.16.0)\n",
      "Requirement already satisfied: colorama; platform_system == \"Windows\" in c:\\python\\lib\\site-packages (from click<9,>=7.0->streamlit) (0.4.6)\n",
      "Requirement already satisfied: mdurl~=0.1 in c:\\python\\lib\\site-packages (from markdown-it-py>=2.2.0->rich<14,>=10.14.0->streamlit) (0.1.2)\n",
      "Requirement already satisfied: smmap<6,>=3.0.1 in c:\\python\\lib\\site-packages (from gitdb<5,>=4.0.1->gitpython!=3.1.19,<4,>=3.0.7->streamlit) (5.0.1)\n",
      "Requirement already satisfied: MarkupSafe>=2.0 in c:\\python\\lib\\site-packages (from jinja2>=2.10.1->pydeck<1,>=0.8.0b4->streamlit) (2.1.3)\n",
      "Requirement already satisfied: attrs>=22.2.0 in c:\\python\\lib\\site-packages (from jsonschema>=3.0->altair<6,>=4.0->streamlit) (23.1.0)\n",
      "Requirement already satisfied: rpds-py>=0.7.1 in c:\\python\\lib\\site-packages (from jsonschema>=3.0->altair<6,>=4.0->streamlit) (0.15.2)\n",
      "Requirement already satisfied: jsonschema-specifications>=2023.03.6 in c:\\python\\lib\\site-packages (from jsonschema>=3.0->altair<6,>=4.0->streamlit) (2023.11.2)\n",
      "Requirement already satisfied: referencing>=0.28.4 in c:\\python\\lib\\site-packages (from jsonschema>=3.0->altair<6,>=4.0->streamlit) (0.32.0)\n",
      "Note: you may need to restart the kernel to use updated packages.\n"
     ]
    },
    {
     "name": "stderr",
     "output_type": "stream",
     "text": [
      "WARNING: You are using pip version 20.2.3; however, version 23.3.2 is available.\n",
      "You should consider upgrading via the 'c:\\python\\python.exe -m pip install --upgrade pip' command.\n"
     ]
    }
   ],
   "source": [
    "pip install streamlit"
   ]
  },
  {
   "cell_type": "code",
   "execution_count": 4,
   "id": "b936d964",
   "metadata": {},
   "outputs": [],
   "source": [
    "import streamlit as st\n",
    "import pickle\n",
    "import pandas as pd"
   ]
  },
  {
   "cell_type": "code",
   "execution_count": 5,
   "id": "020f4c59",
   "metadata": {},
   "outputs": [],
   "source": [
    "def recommend(movie):\n",
    "    movie_index=movies[movies['title']==movie].index[0]\n",
    "    distances = similarity[movie_index]\n",
    "    movie_list = sorted(list(enumerate(distances)), reverse=True, key=lambda x:x[1])[1:6]\n",
    "    \n",
    "    recommended_movies = []\n",
    "    \n",
    "    for i in movie_list:\n",
    "        recommended_movies.append(movies.iloc[i[0]].title)\n",
    "    return recommended_movies\n",
    "\n",
    "movies_dict = pickle.load(open('movies_df.pkl', 'rb'))\n",
    "movies = pd.DataFrame(movies_dict)\n",
    "\n",
    "similarity = pickle.load(open('similarity.pkl', 'rb'))\n",
    "\n",
    "st.title('Movie Recommnder System')\n",
    "\n",
    "option = st.selectbox('Select you Movie : ', movies['title'].values)\n",
    "\n",
    "if st.button('Recommend'):\n",
    "    recommendations = recommend(option)\n",
    "    for i in recommendations:\n",
    "        st.write(i)"
   ]
  },
  {
   "cell_type": "code",
   "execution_count": 6,
   "id": "025c38d0",
   "metadata": {},
   "outputs": [],
   "source": [
    "#streamlit run app.py"
   ]
  },
  {
   "cell_type": "code",
   "execution_count": null,
   "id": "3fa3d36b",
   "metadata": {},
   "outputs": [],
   "source": []
  }
 ],
 "metadata": {
  "kernelspec": {
   "display_name": "Python 3 (ipykernel)",
   "language": "python",
   "name": "python3"
  },
  "language_info": {
   "codemirror_mode": {
    "name": "ipython",
    "version": 3
   },
   "file_extension": ".py",
   "mimetype": "text/x-python",
   "name": "python",
   "nbconvert_exporter": "python",
   "pygments_lexer": "ipython3",
   "version": "3.9.0"
  }
 },
 "nbformat": 4,
 "nbformat_minor": 5
}
